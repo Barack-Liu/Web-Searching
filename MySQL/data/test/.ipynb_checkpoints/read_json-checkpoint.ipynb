{
 "cells": [
  {
   "cell_type": "code",
   "execution_count": 34,
   "metadata": {},
   "outputs": [
    {
     "name": "stdout",
     "output_type": "stream",
     "text": [
      "1441\n"
     ]
    }
   ],
   "source": [
    "import json\n",
    "with open('easymoney.json','r') as f:\n",
    "    raw_data1 = json.load(f)\n",
    "    print(len(raw_data1))"
   ]
  },
  {
   "cell_type": "code",
   "execution_count": 35,
   "metadata": {},
   "outputs": [
    {
     "name": "stdout",
     "output_type": "stream",
     "text": [
      "7689\n"
     ]
    }
   ],
   "source": [
    "with open('sina.json','r') as f:\n",
    "    raw_data2 = json.load(f)\n",
    "    print(len(raw_data2))"
   ]
  },
  {
   "cell_type": "code",
   "execution_count": 36,
   "metadata": {},
   "outputs": [
    {
     "name": "stdout",
     "output_type": "stream",
     "text": [
      "95\n"
     ]
    }
   ],
   "source": [
    "with open('a10jqka.json','r') as f:\n",
    "    raw_data3 = json.load(f)\n",
    "    print(len(raw_data3))"
   ]
  },
  {
   "cell_type": "code",
   "execution_count": 37,
   "metadata": {
    "collapsed": true
   },
   "outputs": [],
   "source": [
    "raw_data = raw_data1 + raw_data2 + raw_data3"
   ]
  },
  {
   "cell_type": "code",
   "execution_count": 38,
   "metadata": {},
   "outputs": [
    {
     "name": "stdout",
     "output_type": "stream",
     "text": [
      "9225\n"
     ]
    }
   ],
   "source": [
    "print(len(raw_data))"
   ]
  }
 ],
 "metadata": {
  "kernelspec": {
   "display_name": "Python 3",
   "language": "python",
   "name": "python3"
  },
  "language_info": {
   "codemirror_mode": {
    "name": "ipython",
    "version": 3
   },
   "file_extension": ".py",
   "mimetype": "text/x-python",
   "name": "python",
   "nbconvert_exporter": "python",
   "pygments_lexer": "ipython3",
   "version": "3.6.2"
  }
 },
 "nbformat": 4,
 "nbformat_minor": 2
}
